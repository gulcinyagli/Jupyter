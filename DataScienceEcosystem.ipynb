{
  "metadata": {
    "kernelspec": {
      "name": "python",
      "display_name": "Python (Pyodide)",
      "language": "python"
    },
    "language_info": {
      "codemirror_mode": {
        "name": "python",
        "version": 3
      },
      "file_extension": ".py",
      "mimetype": "text/x-python",
      "name": "python",
      "nbconvert_exporter": "python",
      "pygments_lexer": "ipython3",
      "version": "3.8"
    }
  },
  "nbformat_minor": 5,
  "nbformat": 4,
  "cells": [
    {
      "id": "f48c4f80-bc6b-474b-8cee-9d1339697500",
      "cell_type": "markdown",
      "source": "# Data Science Tools and Ecosystem",
      "metadata": {}
    },
    {
      "id": "71c4265a-6ba0-4cdb-bc24-f5b153111f02",
      "cell_type": "markdown",
      "source": "In this notebook, Data Science Tools and Ecosystem are summarized.",
      "metadata": {}
    },
    {
      "id": "27f4d72a-1f07-434a-bb3b-3354a474a734",
      "cell_type": "markdown",
      "source": "Some of the popular languages that Data Scientists use are:\n1. Python\n2. R\n3. SQL",
      "metadata": {}
    },
    {
      "id": "6440f8e6-668c-4c76-b63f-f74f31e2a42f",
      "cell_type": "markdown",
      "source": "Some of the commonly used libraries used by Data Scientists include:\n1. Pandas\n2. Numphy\n3. MatplotLib",
      "metadata": {}
    },
    {
      "id": "1035bf5b-a035-491a-ba4a-a928a30137f7",
      "cell_type": "markdown",
      "source": "|Data Science Tools|\n|------------------|\n|Anaconda|\n|JupyterLite|\n|JupyterLab|",
      "metadata": {}
    },
    {
      "id": "119c0542-b567-4cd9-b20c-86d02ff0fdd3",
      "cell_type": "markdown",
      "source": "***Below are a few examples of evaluating arithmetic expressions in Python***\na = 1\nb = 2\nc = a + b",
      "metadata": {}
    },
    {
      "id": "51ab6498-a942-4749-bb62-5d0db569ea57",
      "cell_type": "code",
      "source": "#This a simple arithmetic expression to mutiply then add integers\noutput = (2*3)+7\nprint(output)",
      "metadata": {
        "trusted": true
      },
      "outputs": [
        {
          "name": "stdout",
          "output_type": "stream",
          "text": "13\n"
        }
      ],
      "execution_count": 2
    },
    {
      "id": "6578b13f-07ea-4d16-a031-a10a0c04d2c6",
      "cell_type": "code",
      "source": "#This will convert 200 minutes to hours by diving by 60\na = 200/60\nprint(a)",
      "metadata": {
        "trusted": true
      },
      "outputs": [
        {
          "name": "stdout",
          "output_type": "stream",
          "text": "3.3333333333333335\n"
        }
      ],
      "execution_count": 4
    },
    {
      "id": "20a8fcbe-4b4a-4c8a-a217-12a17289f9a6",
      "cell_type": "markdown",
      "source": "**Objectives:**\n+ List popular languages for Data Science\n+ List popular tools for Data Science\n+ List popular environments for Data Science",
      "metadata": {}
    },
    {
      "id": "90e74189-8c52-4814-a8c4-d979aaf54011",
      "cell_type": "markdown",
      "source": "## Author\nGülçin Yağlı",
      "metadata": {}
    },
    {
      "id": "bcb2ac82-710a-4e2b-bf57-ea7b1ebbf8c3",
      "cell_type": "code",
      "source": "",
      "metadata": {
        "trusted": true
      },
      "outputs": [],
      "execution_count": null
    }
  ]
}